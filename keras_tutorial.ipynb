{
 "cells": [
  {
   "cell_type": "code",
   "execution_count": 1,
   "metadata": {},
   "outputs": [
    {
     "name": "stderr",
     "output_type": "stream",
     "text": [
      "/Users/koiketomoya/.pyenv/versions/anaconda3-5.1.0/envs/kaggle/lib/python3.6/site-packages/h5py/__init__.py:36: FutureWarning: Conversion of the second argument of issubdtype from `float` to `np.floating` is deprecated. In future, it will be treated as `np.float64 == np.dtype(float).type`.\n",
      "  from ._conv import register_converters as _register_converters\n",
      "Using TensorFlow backend.\n"
     ]
    }
   ],
   "source": [
    "from keras.layers import Input, Dense\n",
    "from keras.models import Model\n",
    "\n",
    "# this is the size of our encoded representations\n",
    "encoding_dim = 32  # 32 floats -> compression of factor 24.5, assuming the input is 784 floats\n",
    "\n",
    "# this is our input placeholder\n",
    "input_img = Input(shape=(784,))\n",
    "# \"encoded\" is the encoded representation of the input\n",
    "encoded = Dense(encoding_dim, activation='relu')(input_img)\n",
    "# \"decoded\" is the lossy reconstruction of the input\n",
    "decoded = Dense(784, activation='sigmoid')(encoded)\n",
    "\n",
    "# this model maps an input to its reconstruction\n",
    "autoencoder = Model(input_img, decoded)"
   ]
  },
  {
   "cell_type": "code",
   "execution_count": 2,
   "metadata": {},
   "outputs": [],
   "source": [
    "# this model maps an input to its encoded representation\n",
    "encoder = Model(input_img, encoded)"
   ]
  },
  {
   "cell_type": "code",
   "execution_count": 3,
   "metadata": {},
   "outputs": [],
   "source": [
    "# create a placeholder for an encoded (32-dimensional) input\n",
    "encoded_input = Input(shape=(encoding_dim,))\n",
    "# retrieve the last layer of the autoencoder model\n",
    "decoder_layer = autoencoder.layers[-1]\n",
    "# create the decoder model\n",
    "decoder = Model(encoded_input, decoder_layer(encoded_input))"
   ]
  },
  {
   "cell_type": "code",
   "execution_count": 4,
   "metadata": {},
   "outputs": [],
   "source": [
    "autoencoder.compile(optimizer='adadelta', loss='binary_crossentropy')"
   ]
  },
  {
   "cell_type": "code",
   "execution_count": 5,
   "metadata": {},
   "outputs": [],
   "source": [
    "from keras.datasets import mnist\n",
    "import numpy as np\n",
    "(x_train, _), (x_test, _) = mnist.load_data()"
   ]
  },
  {
   "cell_type": "code",
   "execution_count": 7,
   "metadata": {},
   "outputs": [
    {
     "name": "stdout",
     "output_type": "stream",
     "text": [
      "(60000, 784)\n",
      "(10000, 784)\n"
     ]
    }
   ],
   "source": [
    "x_train = x_train.astype('float32') / 255.\n",
    "x_test = x_test.astype('float32') / 255.\n",
    "x_train = x_train.reshape((len(x_train), np.prod(x_train.shape[1:])))\n",
    "x_test = x_test.reshape((len(x_test), np.prod(x_test.shape[1:])))\n",
    "print(x_train.shape)\n",
    "print(x_test.shape)"
   ]
  },
  {
   "cell_type": "code",
   "execution_count": 8,
   "metadata": {},
   "outputs": [
    {
     "name": "stdout",
     "output_type": "stream",
     "text": [
      "Train on 60000 samples, validate on 10000 samples\n",
      "Epoch 1/50\n",
      "60000/60000 [==============================] - 2s 36us/step - loss: 0.3567 - val_loss: 0.2709\n",
      "Epoch 2/50\n",
      "60000/60000 [==============================] - 2s 34us/step - loss: 0.2635 - val_loss: 0.2523\n",
      "Epoch 3/50\n",
      "60000/60000 [==============================] - 2s 29us/step - loss: 0.2424 - val_loss: 0.2306\n",
      "Epoch 4/50\n",
      "60000/60000 [==============================] - 2s 32us/step - loss: 0.2229 - val_loss: 0.2128\n",
      "Epoch 5/50\n",
      "60000/60000 [==============================] - 2s 31us/step - loss: 0.2075 - val_loss: 0.1995\n",
      "Epoch 6/50\n",
      "60000/60000 [==============================] - 2s 31us/step - loss: 0.1959 - val_loss: 0.1894\n",
      "Epoch 7/50\n",
      "60000/60000 [==============================] - 2s 33us/step - loss: 0.1871 - val_loss: 0.1819\n",
      "Epoch 8/50\n",
      "60000/60000 [==============================] - 2s 37us/step - loss: 0.1802 - val_loss: 0.1758\n",
      "Epoch 9/50\n",
      "60000/60000 [==============================] - 2s 34us/step - loss: 0.1746 - val_loss: 0.1705\n",
      "Epoch 10/50\n",
      "60000/60000 [==============================] - 2s 33us/step - loss: 0.1696 - val_loss: 0.1658\n",
      "Epoch 11/50\n",
      "60000/60000 [==============================] - 2s 32us/step - loss: 0.1650 - val_loss: 0.1615\n",
      "Epoch 12/50\n",
      "60000/60000 [==============================] - 2s 37us/step - loss: 0.1609 - val_loss: 0.1575\n",
      "Epoch 13/50\n",
      "60000/60000 [==============================] - 2s 34us/step - loss: 0.1571 - val_loss: 0.1538\n",
      "Epoch 14/50\n",
      "60000/60000 [==============================] - 2s 33us/step - loss: 0.1536 - val_loss: 0.1505\n",
      "Epoch 15/50\n",
      "60000/60000 [==============================] - 2s 33us/step - loss: 0.1504 - val_loss: 0.1473\n",
      "Epoch 16/50\n",
      "60000/60000 [==============================] - 2s 33us/step - loss: 0.1473 - val_loss: 0.1444\n",
      "Epoch 17/50\n",
      "60000/60000 [==============================] - 2s 31us/step - loss: 0.1444 - val_loss: 0.1415\n",
      "Epoch 18/50\n",
      "60000/60000 [==============================] - 2s 29us/step - loss: 0.1417 - val_loss: 0.1388\n",
      "Epoch 19/50\n",
      "60000/60000 [==============================] - 2s 35us/step - loss: 0.1391 - val_loss: 0.1363\n",
      "Epoch 20/50\n",
      "60000/60000 [==============================] - 2s 32us/step - loss: 0.1366 - val_loss: 0.1338\n",
      "Epoch 21/50\n",
      "60000/60000 [==============================] - 2s 38us/step - loss: 0.1343 - val_loss: 0.1316\n",
      "Epoch 22/50\n",
      "60000/60000 [==============================] - 2s 35us/step - loss: 0.1321 - val_loss: 0.1294\n",
      "Epoch 23/50\n",
      "60000/60000 [==============================] - 2s 34us/step - loss: 0.1300 - val_loss: 0.1273\n",
      "Epoch 24/50\n",
      "60000/60000 [==============================] - 2s 36us/step - loss: 0.1279 - val_loss: 0.1254\n",
      "Epoch 25/50\n",
      "60000/60000 [==============================] - 2s 32us/step - loss: 0.1260 - val_loss: 0.1234\n",
      "Epoch 26/50\n",
      "60000/60000 [==============================] - 2s 31us/step - loss: 0.1241 - val_loss: 0.1216\n",
      "Epoch 27/50\n",
      "60000/60000 [==============================] - 2s 36us/step - loss: 0.1224 - val_loss: 0.1199\n",
      "Epoch 28/50\n",
      "60000/60000 [==============================] - 2s 36us/step - loss: 0.1207 - val_loss: 0.1183\n",
      "Epoch 29/50\n",
      "60000/60000 [==============================] - 2s 35us/step - loss: 0.1192 - val_loss: 0.1168\n",
      "Epoch 30/50\n",
      "60000/60000 [==============================] - 2s 34us/step - loss: 0.1178 - val_loss: 0.1154\n",
      "Epoch 31/50\n",
      "60000/60000 [==============================] - 2s 33us/step - loss: 0.1164 - val_loss: 0.1142\n",
      "Epoch 32/50\n",
      "60000/60000 [==============================] - 2s 33us/step - loss: 0.1152 - val_loss: 0.1130\n",
      "Epoch 33/50\n",
      "60000/60000 [==============================] - 2s 35us/step - loss: 0.1141 - val_loss: 0.1119\n",
      "Epoch 34/50\n",
      "60000/60000 [==============================] - 2s 34us/step - loss: 0.1130 - val_loss: 0.1109\n",
      "Epoch 35/50\n",
      "60000/60000 [==============================] - 2s 35us/step - loss: 0.1121 - val_loss: 0.1099\n",
      "Epoch 36/50\n",
      "60000/60000 [==============================] - 2s 34us/step - loss: 0.1112 - val_loss: 0.1091\n",
      "Epoch 37/50\n",
      "60000/60000 [==============================] - 2s 35us/step - loss: 0.1104 - val_loss: 0.1083\n",
      "Epoch 38/50\n",
      "60000/60000 [==============================] - 3s 50us/step - loss: 0.1096 - val_loss: 0.1076\n",
      "Epoch 39/50\n",
      "60000/60000 [==============================] - 2s 40us/step - loss: 0.1089 - val_loss: 0.1069\n",
      "Epoch 40/50\n",
      "60000/60000 [==============================] - 2s 40us/step - loss: 0.1083 - val_loss: 0.1063\n",
      "Epoch 41/50\n",
      "60000/60000 [==============================] - 2s 38us/step - loss: 0.1077 - val_loss: 0.1057\n",
      "Epoch 42/50\n",
      "60000/60000 [==============================] - 2s 38us/step - loss: 0.1071 - val_loss: 0.1052\n",
      "Epoch 43/50\n",
      "60000/60000 [==============================] - 2s 38us/step - loss: 0.1066 - val_loss: 0.1047\n",
      "Epoch 44/50\n",
      "60000/60000 [==============================] - 3s 46us/step - loss: 0.1061 - val_loss: 0.1042\n",
      "Epoch 45/50\n",
      "60000/60000 [==============================] - 3s 50us/step - loss: 0.1056 - val_loss: 0.1038\n",
      "Epoch 46/50\n",
      "60000/60000 [==============================] - 2s 40us/step - loss: 0.1051 - val_loss: 0.1033\n",
      "Epoch 47/50\n",
      "60000/60000 [==============================] - 2s 38us/step - loss: 0.1047 - val_loss: 0.1029\n",
      "Epoch 48/50\n",
      "60000/60000 [==============================] - 3s 42us/step - loss: 0.1043 - val_loss: 0.1026\n",
      "Epoch 49/50\n",
      "60000/60000 [==============================] - 3s 42us/step - loss: 0.1040 - val_loss: 0.1022\n",
      "Epoch 50/50\n",
      "60000/60000 [==============================] - 2s 39us/step - loss: 0.1036 - val_loss: 0.1019\n"
     ]
    },
    {
     "data": {
      "text/plain": [
       "<keras.callbacks.History at 0x181c098358>"
      ]
     },
     "execution_count": 8,
     "metadata": {},
     "output_type": "execute_result"
    }
   ],
   "source": [
    "autoencoder.fit(x_train, x_train,\n",
    "                epochs=50,\n",
    "                batch_size=256,\n",
    "                shuffle=True,\n",
    "                validation_data=(x_test, x_test))"
   ]
  },
  {
   "cell_type": "code",
   "execution_count": 9,
   "metadata": {},
   "outputs": [],
   "source": [
    "# encode and decode some digits\n",
    "# note that we take them from the *test* set\n",
    "encoded_imgs = encoder.predict(x_test)\n",
    "decoded_imgs = decoder.predict(encoded_imgs)"
   ]
  },
  {
   "cell_type": "code",
   "execution_count": 11,
   "metadata": {},
   "outputs": [
    {
     "data": {
      "image/png": "[encoded data removed]",
      "text/plain": [
       "<matplotlib.figure.Figure at 0x18333e7cc0>"
      ]
     },
     "metadata": {},
     "output_type": "display_data"
    }
   ],
   "source": [
    "# use Matplotlib (don't ask)\n",
    "import matplotlib.pyplot as plt\n",
    "\n",
    "n = 10  # how many digits we will display\n",
    "plt.figure(figsize=(20, 4))\n",
    "for i in range(n):\n",
    "    # display original\n",
    "    ax = plt.subplot(2, n, i + 1)\n",
    "    plt.imshow(x_test[i].reshape(28, 28))\n",
    "    plt.gray()\n",
    "    ax.get_xaxis().set_visible(False)\n",
    "    ax.get_yaxis().set_visible(False)\n",
    "\n",
    "    # display reconstruction\n",
    "    ax = plt.subplot(2, n, i + 1 + n)\n",
    "    plt.imshow(decoded_imgs[i].reshape(28, 28))\n",
    "    plt.gray()\n",
    "    ax.get_xaxis().set_visible(False)\n",
    "    ax.get_yaxis().set_visible(False)\n",
    "plt.show()"
   ]
  },
  {
   "cell_type": "code",
   "execution_count": 12,
   "metadata": {},
   "outputs": [],
   "source": [
    "from keras import regularizers\n",
    "\n",
    "encoding_dim = 32\n",
    "\n",
    "input_img = Input(shape=(784,))\n",
    "# add a Dense layer with a L1 activity regularizer\n",
    "encoded = Dense(encoding_dim, activation='relu',\n",
    "                activity_regularizer=regularizers.l1(10e-5))(input_img)\n",
    "decoded = Dense(784, activation='sigmoid')(encoded)\n",
    "\n",
    "autoencoder = Model(input_img, decoded)"
   ]
  },
  {
   "cell_type": "code",
   "execution_count": 13,
   "metadata": {},
   "outputs": [],
   "source": [
    "input_img = Input(shape=(784,))\n",
    "encoded = Dense(128, activation='relu')(input_img)\n",
    "encoded = Dense(64, activation='relu')(encoded)\n",
    "encoded = Dense(32, activation='relu')(encoded)\n",
    "\n",
    "decoded = Dense(64, activation='relu')(encoded)\n",
    "decoded = Dense(128, activation='relu')(decoded)\n",
    "decoded = Dense(784, activation='sigmoid')(decoded)"
   ]
  },
  {
   "cell_type": "code",
   "execution_count": 14,
   "metadata": {},
   "outputs": [
    {
     "name": "stdout",
     "output_type": "stream",
     "text": [
      "Train on 60000 samples, validate on 10000 samples\n",
      "Epoch 1/100\n",
      "60000/60000 [==============================] - 4s 69us/step - loss: 0.3288 - val_loss: 0.2624\n",
      "Epoch 2/100\n",
      "60000/60000 [==============================] - 3s 49us/step - loss: 0.2562 - val_loss: 0.2483\n",
      "Epoch 3/100\n",
      "60000/60000 [==============================] - 3s 56us/step - loss: 0.2389 - val_loss: 0.2275\n",
      "Epoch 4/100\n",
      "60000/60000 [==============================] - 3s 57us/step - loss: 0.2137 - val_loss: 0.2036\n",
      "Epoch 5/100\n",
      "60000/60000 [==============================] - 3s 50us/step - loss: 0.1975 - val_loss: 0.1924\n",
      "Epoch 6/100\n",
      "60000/60000 [==============================] - 3s 49us/step - loss: 0.1864 - val_loss: 0.1831\n",
      "Epoch 7/100\n",
      "60000/60000 [==============================] - 3s 53us/step - loss: 0.1790 - val_loss: 0.1762\n",
      "Epoch 8/100\n",
      "60000/60000 [==============================] - 3s 52us/step - loss: 0.1736 - val_loss: 0.1702\n",
      "Epoch 9/100\n",
      "60000/60000 [==============================] - 3s 48us/step - loss: 0.1688 - val_loss: 0.1665\n",
      "Epoch 10/100\n",
      "60000/60000 [==============================] - 3s 47us/step - loss: 0.1637 - val_loss: 0.1598\n",
      "Epoch 11/100\n",
      "60000/60000 [==============================] - 3s 51us/step - loss: 0.1595 - val_loss: 0.1558\n",
      "Epoch 12/100\n",
      "60000/60000 [==============================] - 3s 50us/step - loss: 0.1557 - val_loss: 0.1524\n",
      "Epoch 13/100\n",
      "60000/60000 [==============================] - 3s 54us/step - loss: 0.1526 - val_loss: 0.1497\n",
      "Epoch 14/100\n",
      "60000/60000 [==============================] - 3s 49us/step - loss: 0.1499 - val_loss: 0.1482\n",
      "Epoch 15/100\n",
      "60000/60000 [==============================] - 3s 47us/step - loss: 0.1474 - val_loss: 0.1463\n",
      "Epoch 16/100\n",
      "60000/60000 [==============================] - 3s 55us/step - loss: 0.1449 - val_loss: 0.1437\n",
      "Epoch 17/100\n",
      "60000/60000 [==============================] - 3s 51us/step - loss: 0.1426 - val_loss: 0.1417\n",
      "Epoch 18/100\n",
      "60000/60000 [==============================] - 3s 53us/step - loss: 0.1401 - val_loss: 0.1423\n",
      "Epoch 19/100\n",
      "60000/60000 [==============================] - 3s 49us/step - loss: 0.1381 - val_loss: 0.1348\n",
      "Epoch 20/100\n",
      "60000/60000 [==============================] - 3s 53us/step - loss: 0.1362 - val_loss: 0.1330\n",
      "Epoch 21/100\n",
      "60000/60000 [==============================] - 3s 53us/step - loss: 0.1344 - val_loss: 0.1326\n",
      "Epoch 22/100\n",
      "60000/60000 [==============================] - 3s 49us/step - loss: 0.1329 - val_loss: 0.1314\n",
      "Epoch 23/100\n",
      "60000/60000 [==============================] - 3s 55us/step - loss: 0.1312 - val_loss: 0.1285\n",
      "Epoch 24/100\n",
      "60000/60000 [==============================] - 3s 55us/step - loss: 0.1297 - val_loss: 0.1286\n",
      "Epoch 25/100\n",
      "60000/60000 [==============================] - 3s 49us/step - loss: 0.1284 - val_loss: 0.1271\n",
      "Epoch 26/100\n",
      "60000/60000 [==============================] - 3s 55us/step - loss: 0.1273 - val_loss: 0.1247\n",
      "Epoch 27/100\n",
      "60000/60000 [==============================] - 3s 53us/step - loss: 0.1263 - val_loss: 0.1241\n",
      "Epoch 28/100\n",
      "60000/60000 [==============================] - 3s 49us/step - loss: 0.1251 - val_loss: 0.1229\n",
      "Epoch 29/100\n",
      "60000/60000 [==============================] - 3s 53us/step - loss: 0.1241 - val_loss: 0.1214\n",
      "Epoch 30/100\n",
      "60000/60000 [==============================] - 3s 52us/step - loss: 0.1233 - val_loss: 0.1213\n",
      "Epoch 31/100\n",
      "60000/60000 [==============================] - 3s 52us/step - loss: 0.1223 - val_loss: 0.1208\n",
      "Epoch 32/100\n",
      "60000/60000 [==============================] - 3s 50us/step - loss: 0.1214 - val_loss: 0.1180\n",
      "Epoch 33/100\n",
      "60000/60000 [==============================] - 3s 52us/step - loss: 0.1206 - val_loss: 0.1184\n",
      "Epoch 34/100\n",
      "60000/60000 [==============================] - 3s 51us/step - loss: 0.1200 - val_loss: 0.1174\n",
      "Epoch 35/100\n",
      "60000/60000 [==============================] - 3s 52us/step - loss: 0.1193 - val_loss: 0.1172\n",
      "Epoch 36/100\n",
      "60000/60000 [==============================] - 3s 54us/step - loss: 0.1187 - val_loss: 0.1170\n",
      "Epoch 37/100\n",
      "60000/60000 [==============================] - 3s 53us/step - loss: 0.1181 - val_loss: 0.1172\n",
      "Epoch 38/100\n",
      "60000/60000 [==============================] - 3s 48us/step - loss: 0.1174 - val_loss: 0.1174\n",
      "Epoch 39/100\n",
      "60000/60000 [==============================] - 3s 58us/step - loss: 0.1169 - val_loss: 0.1152\n",
      "Epoch 40/100\n",
      "60000/60000 [==============================] - 3s 52us/step - loss: 0.1163 - val_loss: 0.1151\n",
      "Epoch 41/100\n",
      "60000/60000 [==============================] - 3s 51us/step - loss: 0.1157 - val_loss: 0.1145\n",
      "Epoch 42/100\n",
      "60000/60000 [==============================] - 3s 57us/step - loss: 0.1150 - val_loss: 0.1127\n",
      "Epoch 43/100\n",
      "60000/60000 [==============================] - 3s 51us/step - loss: 0.1145 - val_loss: 0.1131\n",
      "Epoch 44/100\n",
      "60000/60000 [==============================] - 3s 50us/step - loss: 0.1140 - val_loss: 0.1124\n",
      "Epoch 45/100\n",
      "60000/60000 [==============================] - 3s 56us/step - loss: 0.1133 - val_loss: 0.1122\n",
      "Epoch 46/100\n",
      "60000/60000 [==============================] - 3s 50us/step - loss: 0.1129 - val_loss: 0.1122\n",
      "Epoch 47/100\n",
      "60000/60000 [==============================] - 3s 53us/step - loss: 0.1124 - val_loss: 0.1117\n",
      "Epoch 48/100\n",
      "60000/60000 [==============================] - 4s 60us/step - loss: 0.1117 - val_loss: 0.1099\n",
      "Epoch 49/100\n",
      "60000/60000 [==============================] - 4s 65us/step - loss: 0.1115 - val_loss: 0.1111\n",
      "Epoch 50/100\n",
      "60000/60000 [==============================] - 4s 64us/step - loss: 0.1110 - val_loss: 0.1080\n",
      "Epoch 51/100\n",
      "60000/60000 [==============================] - 4s 64us/step - loss: 0.1106 - val_loss: 0.1087\n",
      "Epoch 52/100\n",
      "60000/60000 [==============================] - 3s 52us/step - loss: 0.1101 - val_loss: 0.1081\n",
      "Epoch 53/100\n",
      "60000/60000 [==============================] - 3s 51us/step - loss: 0.1098 - val_loss: 0.1087\n",
      "Epoch 54/100\n",
      "60000/60000 [==============================] - 3s 53us/step - loss: 0.1093 - val_loss: 0.1072\n",
      "Epoch 55/100\n",
      "60000/60000 [==============================] - 3s 53us/step - loss: 0.1089 - val_loss: 0.1074\n",
      "Epoch 56/100\n",
      "60000/60000 [==============================] - 4s 65us/step - loss: 0.1086 - val_loss: 0.1076\n",
      "Epoch 57/100\n",
      "60000/60000 [==============================] - 4s 70us/step - loss: 0.1083 - val_loss: 0.1070\n",
      "Epoch 58/100\n",
      "60000/60000 [==============================] - 3s 54us/step - loss: 0.1080 - val_loss: 0.1059\n",
      "Epoch 59/100\n",
      "60000/60000 [==============================] - 3s 55us/step - loss: 0.1076 - val_loss: 0.1066\n",
      "Epoch 60/100\n",
      "60000/60000 [==============================] - 3s 56us/step - loss: 0.1074 - val_loss: 0.1076\n",
      "Epoch 61/100\n",
      "60000/60000 [==============================] - 3s 48us/step - loss: 0.1069 - val_loss: 0.1058\n",
      "Epoch 62/100\n",
      "60000/60000 [==============================] - 3s 51us/step - loss: 0.1068 - val_loss: 0.1078\n",
      "Epoch 63/100\n",
      "60000/60000 [==============================] - 3s 51us/step - loss: 0.1065 - val_loss: 0.1073\n",
      "Epoch 64/100\n",
      "60000/60000 [==============================] - 3s 51us/step - loss: 0.1062 - val_loss: 0.1056\n",
      "Epoch 65/100\n",
      "60000/60000 [==============================] - 3s 56us/step - loss: 0.1057 - val_loss: 0.1037\n",
      "Epoch 66/100\n",
      "60000/60000 [==============================] - 3s 50us/step - loss: 0.1055 - val_loss: 0.1041\n",
      "Epoch 67/100\n",
      "60000/60000 [==============================] - 3s 54us/step - loss: 0.1053 - val_loss: 0.1066\n",
      "Epoch 68/100\n",
      "60000/60000 [==============================] - 3s 55us/step - loss: 0.1050 - val_loss: 0.1063\n",
      "Epoch 69/100\n",
      "60000/60000 [==============================] - 3s 52us/step - loss: 0.1047 - val_loss: 0.1039\n",
      "Epoch 70/100\n",
      "60000/60000 [==============================] - 3s 54us/step - loss: 0.1045 - val_loss: 0.1034\n",
      "Epoch 71/100\n",
      "60000/60000 [==============================] - 3s 44us/step - loss: 0.1043 - val_loss: 0.1056\n",
      "Epoch 72/100\n",
      "60000/60000 [==============================] - 3s 44us/step - loss: 0.1040 - val_loss: 0.1023\n",
      "Epoch 73/100\n",
      "60000/60000 [==============================] - 3s 45us/step - loss: 0.1039 - val_loss: 0.1020\n",
      "Epoch 74/100\n",
      "60000/60000 [==============================] - 3s 44us/step - loss: 0.1036 - val_loss: 0.1041\n",
      "Epoch 75/100\n",
      "60000/60000 [==============================] - 3s 44us/step - loss: 0.1034 - val_loss: 0.1018\n",
      "Epoch 76/100\n",
      "60000/60000 [==============================] - 3s 45us/step - loss: 0.1031 - val_loss: 0.1017\n",
      "Epoch 77/100\n"
     ]
    },
    {
     "name": "stdout",
     "output_type": "stream",
     "text": [
      "60000/60000 [==============================] - 3s 44us/step - loss: 0.1029 - val_loss: 0.1033\n",
      "Epoch 78/100\n",
      "60000/60000 [==============================] - 3s 44us/step - loss: 0.1027 - val_loss: 0.1019\n",
      "Epoch 79/100\n",
      "60000/60000 [==============================] - 3s 44us/step - loss: 0.1025 - val_loss: 0.1011\n",
      "Epoch 80/100\n",
      "60000/60000 [==============================] - 3s 45us/step - loss: 0.1024 - val_loss: 0.1025\n",
      "Epoch 81/100\n",
      "60000/60000 [==============================] - 3s 44us/step - loss: 0.1023 - val_loss: 0.1014\n",
      "Epoch 82/100\n",
      "60000/60000 [==============================] - 3s 44us/step - loss: 0.1019 - val_loss: 0.1010\n",
      "Epoch 83/100\n",
      "60000/60000 [==============================] - 4s 61us/step - loss: 0.1018 - val_loss: 0.1013\n",
      "Epoch 84/100\n",
      "60000/60000 [==============================] - 3s 57us/step - loss: 0.1014 - val_loss: 0.1001\n",
      "Epoch 85/100\n",
      "60000/60000 [==============================] - 3s 57us/step - loss: 0.1013 - val_loss: 0.0992\n",
      "Epoch 86/100\n",
      "60000/60000 [==============================] - 3s 57us/step - loss: 0.1011 - val_loss: 0.0997\n",
      "Epoch 87/100\n",
      "60000/60000 [==============================] - 3s 53us/step - loss: 0.1009 - val_loss: 0.1005\n",
      "Epoch 88/100\n",
      "60000/60000 [==============================] - 3s 52us/step - loss: 0.1007 - val_loss: 0.1006\n",
      "Epoch 89/100\n",
      "60000/60000 [==============================] - 3s 51us/step - loss: 0.1006 - val_loss: 0.1001\n",
      "Epoch 90/100\n",
      "60000/60000 [==============================] - 3s 54us/step - loss: 0.1004 - val_loss: 0.0995\n",
      "Epoch 91/100\n",
      "60000/60000 [==============================] - 3s 53us/step - loss: 0.1004 - val_loss: 0.0989\n",
      "Epoch 92/100\n",
      "60000/60000 [==============================] - 3s 50us/step - loss: 0.1000 - val_loss: 0.0997\n",
      "Epoch 93/100\n",
      "60000/60000 [==============================] - 3s 50us/step - loss: 0.0999 - val_loss: 0.1003\n",
      "Epoch 94/100\n",
      "60000/60000 [==============================] - 3s 50us/step - loss: 0.0998 - val_loss: 0.0980\n",
      "Epoch 95/100\n",
      "60000/60000 [==============================] - 3s 50us/step - loss: 0.0996 - val_loss: 0.1002\n",
      "Epoch 96/100\n",
      "60000/60000 [==============================] - 3s 50us/step - loss: 0.0996 - val_loss: 0.0979\n",
      "Epoch 97/100\n",
      "60000/60000 [==============================] - 3s 51us/step - loss: 0.0993 - val_loss: 0.0983\n",
      "Epoch 98/100\n",
      "60000/60000 [==============================] - 3s 52us/step - loss: 0.0990 - val_loss: 0.0981\n",
      "Epoch 99/100\n",
      "60000/60000 [==============================] - 3s 51us/step - loss: 0.0989 - val_loss: 0.0992\n",
      "Epoch 100/100\n",
      "60000/60000 [==============================] - 3s 51us/step - loss: 0.0989 - val_loss: 0.1000\n"
     ]
    },
    {
     "data": {
      "text/plain": [
       "<keras.callbacks.History at 0x1833c387b8>"
      ]
     },
     "execution_count": 14,
     "metadata": {},
     "output_type": "execute_result"
    }
   ],
   "source": [
    "autoencoder = Model(input_img, decoded)\n",
    "autoencoder.compile(optimizer='adadelta', loss='binary_crossentropy')\n",
    "\n",
    "autoencoder.fit(x_train, x_train,\n",
    "                epochs=100,\n",
    "                batch_size=256,\n",
    "                shuffle=True,\n",
    "                validation_data=(x_test, x_test))"
   ]
  },
  {
   "cell_type": "code",
   "execution_count": 15,
   "metadata": {},
   "outputs": [],
   "source": [
    "from keras.layers import Input, Dense, Conv2D, MaxPooling2D, UpSampling2D\n",
    "from keras.models import Model\n",
    "from keras import backend as K\n",
    "\n",
    "input_img = Input(shape=(28, 28, 1))  # adapt this if using `channels_first` image data format\n",
    "\n",
    "x = Conv2D(16, (3, 3), activation='relu', padding='same')(input_img)\n",
    "x = MaxPooling2D((2, 2), padding='same')(x)\n",
    "x = Conv2D(8, (3, 3), activation='relu', padding='same')(x)\n",
    "x = MaxPooling2D((2, 2), padding='same')(x)\n",
    "x = Conv2D(8, (3, 3), activation='relu', padding='same')(x)\n",
    "encoded = MaxPooling2D((2, 2), padding='same')(x)\n",
    "\n",
    "# at this point the representation is (4, 4, 8) i.e. 128-dimensional\n",
    "\n",
    "x = Conv2D(8, (3, 3), activation='relu', padding='same')(encoded)\n",
    "x = UpSampling2D((2, 2))(x)\n",
    "x = Conv2D(8, (3, 3), activation='relu', padding='same')(x)\n",
    "x = UpSampling2D((2, 2))(x)\n",
    "x = Conv2D(16, (3, 3), activation='relu')(x)\n",
    "x = UpSampling2D((2, 2))(x)\n",
    "decoded = Conv2D(1, (3, 3), activation='sigmoid', padding='same')(x)\n",
    "\n",
    "autoencoder = Model(input_img, decoded)\n",
    "autoencoder.compile(optimizer='adadelta', loss='binary_crossentropy')"
   ]
  },
  {
   "cell_type": "code",
   "execution_count": 16,
   "metadata": {},
   "outputs": [],
   "source": [
    "from keras.datasets import mnist\n",
    "import numpy as np\n",
    "\n",
    "(x_train, _), (x_test, _) = mnist.load_data()\n",
    "\n",
    "x_train = x_train.astype('float32') / 255.\n",
    "x_test = x_test.astype('float32') / 255.\n",
    "x_train = np.reshape(x_train, (len(x_train), 28, 28, 1))  # adapt this if using `channels_first` image data format\n",
    "x_test = np.reshape(x_test, (len(x_test), 28, 28, 1))  # adapt this if using `channels_first` image data format"
   ]
  },
  {
   "cell_type": "code",
   "execution_count": 17,
   "metadata": {},
   "outputs": [
    {
     "ename": "SyntaxError",
     "evalue": "invalid syntax (<ipython-input-17-d252ebf52f78>, line 1)",
     "output_type": "error",
     "traceback": [
      "\u001b[0;36m  File \u001b[0;32m\"<ipython-input-17-d252ebf52f78>\"\u001b[0;36m, line \u001b[0;32m1\u001b[0m\n\u001b[0;31m    tensorboard --logdir=/tmp/autoencoder\u001b[0m\n\u001b[0m                         ^\u001b[0m\n\u001b[0;31mSyntaxError\u001b[0m\u001b[0;31m:\u001b[0m invalid syntax\n"
     ]
    }
   ],
   "source": [
    "tensorboard --logdir=/tmp/autoencoder"
   ]
  },
  {
   "cell_type": "code",
   "execution_count": null,
   "metadata": {},
   "outputs": [],
   "source": [
    "from keras.callbacks import TensorBoard\n",
    "\n",
    "autoencoder.fit(x_train, x_train,\n",
    "                epochs=50,\n",
    "                batch_size=128,\n",
    "                shuffle=True,\n",
    "                validation_data=(x_test, x_test),\n",
    "                callbacks=[TensorBoard(log_dir='/tmp/autoencoder')])"
   ]
  },
  {
   "cell_type": "code",
   "execution_count": null,
   "metadata": {},
   "outputs": [],
   "source": [
    "decoded_imgs = autoencoder.predict(x_test)\n",
    "\n",
    "n = 10\n",
    "plt.figure(figsize=(20, 4))\n",
    "for i in range(n):\n",
    "    # display original\n",
    "    ax = plt.subplot(2, n, i)\n",
    "    plt.imshow(x_test[i].reshape(28, 28))\n",
    "    plt.gray()\n",
    "    ax.get_xaxis().set_visible(False)\n",
    "    ax.get_yaxis().set_visible(False)\n",
    "\n",
    "    # display reconstruction\n",
    "    ax = plt.subplot(2, n, i + n)\n",
    "    plt.imshow(decoded_imgs[i].reshape(28, 28))\n",
    "    plt.gray()\n",
    "    ax.get_xaxis().set_visible(False)\n",
    "    ax.get_yaxis().set_visible(False)\n",
    "plt.show()"
   ]
  },
  {
   "cell_type": "code",
   "execution_count": null,
   "metadata": {},
   "outputs": [],
   "source": [
    "n = 10\n",
    "plt.figure(figsize=(20, 8))\n",
    "for i in range(n):\n",
    "    ax = plt.subplot(1, n, i)\n",
    "    plt.imshow(encoded_imgs[i].reshape(4, 4 * 8).T)\n",
    "    plt.gray()\n",
    "    ax.get_xaxis().set_visible(False)\n",
    "    ax.get_yaxis().set_visible(False)\n",
    "plt.show()"
   ]
  },
  {
   "cell_type": "code",
   "execution_count": null,
   "metadata": {},
   "outputs": [],
   "source": [
    "from keras.datasets import mnist\n",
    "import numpy as np\n",
    "\n",
    "(x_train, _), (x_test, _) = mnist.load_data()\n",
    "\n",
    "x_train = x_train.astype('float32') / 255.\n",
    "x_test = x_test.astype('float32') / 255.\n",
    "x_train = np.reshape(x_train, (len(x_train), 28, 28, 1))  # adapt this if using `channels_first` image data format\n",
    "x_test = np.reshape(x_test, (len(x_test), 28, 28, 1))  # adapt this if using `channels_first` image data format\n",
    "\n",
    "noise_factor = 0.5\n",
    "x_train_noisy = x_train + noise_factor * np.random.normal(loc=0.0, scale=1.0, size=x_train.shape) \n",
    "x_test_noisy = x_test + noise_factor * np.random.normal(loc=0.0, scale=1.0, size=x_test.shape) \n",
    "\n",
    "x_train_noisy = np.clip(x_train_noisy, 0., 1.)\n",
    "x_test_noisy = np.clip(x_test_noisy, 0., 1.)"
   ]
  },
  {
   "cell_type": "code",
   "execution_count": null,
   "metadata": {},
   "outputs": [],
   "source": [
    "n = 10\n",
    "plt.figure(figsize=(20, 2))\n",
    "for i in range(n):\n",
    "    ax = plt.subplot(1, n, i)\n",
    "    plt.imshow(x_test_noisy[i].reshape(28, 28))\n",
    "    plt.gray()\n",
    "    ax.get_xaxis().set_visible(False)\n",
    "    ax.get_yaxis().set_visible(False)\n",
    "plt.show()"
   ]
  },
  {
   "cell_type": "code",
   "execution_count": null,
   "metadata": {},
   "outputs": [],
   "source": [
    "input_img = Input(shape=(28, 28, 1))  # adapt this if using `channels_first` image data format\n",
    "\n",
    "x = Conv2D(32, (3, 3), activation='relu', padding='same')(input_img)\n",
    "x = MaxPooling2D((2, 2), padding='same')(x)\n",
    "x = Conv2D(32, (3, 3), activation='relu', padding='same')(x)\n",
    "encoded = MaxPooling2D((2, 2), padding='same')(x)\n",
    "\n",
    "# at this point the representation is (7, 7, 32)\n",
    "\n",
    "x = Conv2D(32, (3, 3), activation='relu', padding='same')(encoded)\n",
    "x = UpSampling2D((2, 2))(x)\n",
    "x = Conv2D(32, (3, 3), activation='relu', padding='same')(x)\n",
    "x = UpSampling2D((2, 2))(x)\n",
    "decoded = Conv2D(1, (3, 3), activation='sigmoid', padding='same')(x)\n",
    "\n",
    "autoencoder = Model(input_img, decoded)\n",
    "autoencoder.compile(optimizer='adadelta', loss='binary_crossentropy')"
   ]
  },
  {
   "cell_type": "code",
   "execution_count": null,
   "metadata": {},
   "outputs": [],
   "source": [
    "autoencoder.fit(x_train_noisy, x_train,\n",
    "                epochs=100,\n",
    "                batch_size=128,\n",
    "                shuffle=True,\n",
    "                validation_data=(x_test_noisy, x_test),\n",
    "                callbacks=[TensorBoard(log_dir='/tmp/tb', histogram_freq=0, write_graph=False)])"
   ]
  },
  {
   "cell_type": "code",
   "execution_count": null,
   "metadata": {},
   "outputs": [],
   "source": [
    "from keras.layers import Input, LSTM, RepeatVector\n",
    "from keras.models import Model\n",
    "\n",
    "inputs = Input(shape=(timesteps, input_dim))\n",
    "encoded = LSTM(latent_dim)(inputs)\n",
    "\n",
    "decoded = RepeatVector(timesteps)(encoded)\n",
    "decoded = LSTM(input_dim, return_sequences=True)(decoded)\n",
    "\n",
    "sequence_autoencoder = Model(inputs, decoded)\n",
    "encoder = Model(inputs, encoded)"
   ]
  },
  {
   "cell_type": "code",
   "execution_count": null,
   "metadata": {},
   "outputs": [],
   "source": [
    "x = Input(batch_shape=(batch_size, original_dim))\n",
    "h = Dense(intermediate_dim, activation='relu')(x)\n",
    "z_mean = Dense(latent_dim)(h)\n",
    "z_log_sigma = Dense(latent_dim)(h)"
   ]
  },
  {
   "cell_type": "code",
   "execution_count": null,
   "metadata": {},
   "outputs": [],
   "source": [
    "def sampling(args):\n",
    "    z_mean, z_log_sigma = args\n",
    "    epsilon = K.random_normal(shape=(batch_size, latent_dim),\n",
    "                              mean=0., std=epsilon_std)\n",
    "    return z_mean + K.exp(z_log_sigma) * epsilon\n",
    "\n",
    "# note that \"output_shape\" isn't necessary with the TensorFlow backend\n",
    "# so you could write `Lambda(sampling)([z_mean, z_log_sigma])`\n",
    "z = Lambda(sampling, output_shape=(latent_dim,))([z_mean, z_log_sigma])"
   ]
  },
  {
   "cell_type": "code",
   "execution_count": null,
   "metadata": {},
   "outputs": [],
   "source": [
    "decoder_h = Dense(intermediate_dim, activation='relu')\n",
    "decoder_mean = Dense(original_dim, activation='sigmoid')\n",
    "h_decoded = decoder_h(z)\n",
    "x_decoded_mean = decoder_mean(h_decoded)"
   ]
  },
  {
   "cell_type": "code",
   "execution_count": null,
   "metadata": {},
   "outputs": [],
   "source": [
    "# end-to-end autoencoder\n",
    "vae = Model(x, x_decoded_mean)\n",
    "\n",
    "# encoder, from inputs to latent space\n",
    "encoder = Model(x, z_mean)\n",
    "\n",
    "# generator, from latent space to reconstructed inputs\n",
    "decoder_input = Input(shape=(latent_dim,))\n",
    "_h_decoded = decoder_h(decoder_input)\n",
    "_x_decoded_mean = decoder_mean(_h_decoded)\n",
    "generator = Model(decoder_input, _x_decoded_mean)"
   ]
  },
  {
   "cell_type": "code",
   "execution_count": null,
   "metadata": {},
   "outputs": [],
   "source": [
    "def vae_loss(x, x_decoded_mean):\n",
    "    xent_loss = objectives.binary_crossentropy(x, x_decoded_mean)\n",
    "    kl_loss = - 0.5 * K.mean(1 + z_log_sigma - K.square(z_mean) - K.exp(z_log_sigma), axis=-1)\n",
    "    return xent_loss + kl_loss\n",
    "\n",
    "vae.compile(optimizer='rmsprop', loss=vae_loss)"
   ]
  },
  {
   "cell_type": "code",
   "execution_count": null,
   "metadata": {},
   "outputs": [],
   "source": [
    "(x_train, y_train), (x_test, y_test) = mnist.load_data()\n",
    "\n",
    "x_train = x_train.astype('float32') / 255.\n",
    "x_test = x_test.astype('float32') / 255.\n",
    "x_train = x_train.reshape((len(x_train), np.prod(x_train.shape[1:])))\n",
    "x_test = x_test.reshape((len(x_test), np.prod(x_test.shape[1:])))\n",
    "\n",
    "vae.fit(x_train, x_train,\n",
    "        shuffle=True,\n",
    "        epochs=epochs,\n",
    "        batch_size=batch_size,\n",
    "        validation_data=(x_test, x_test))"
   ]
  },
  {
   "cell_type": "code",
   "execution_count": null,
   "metadata": {},
   "outputs": [],
   "source": [
    "x_test_encoded = encoder.predict(x_test, batch_size=batch_size)\n",
    "plt.figure(figsize=(6, 6))\n",
    "plt.scatter(x_test_encoded[:, 0], x_test_encoded[:, 1], c=y_test)\n",
    "plt.colorbar()\n",
    "plt.show()"
   ]
  },
  {
   "cell_type": "code",
   "execution_count": null,
   "metadata": {},
   "outputs": [],
   "source": [
    "# display a 2D manifold of the digits\n",
    "n = 15  # figure with 15x15 digits\n",
    "digit_size = 28\n",
    "figure = np.zeros((digit_size * n, digit_size * n))\n",
    "# we will sample n points within [-15, 15] standard deviations\n",
    "grid_x = np.linspace(-15, 15, n)\n",
    "grid_y = np.linspace(-15, 15, n)\n",
    "\n",
    "for i, yi in enumerate(grid_x):\n",
    "    for j, xi in enumerate(grid_y):\n",
    "        z_sample = np.array([[xi, yi]]) * epsilon_std\n",
    "        x_decoded = generator.predict(z_sample)\n",
    "        digit = x_decoded[0].reshape(digit_size, digit_size)\n",
    "        figure[i * digit_size: (i + 1) * digit_size,\n",
    "               j * digit_size: (j + 1) * digit_size] = digit\n",
    "\n",
    "plt.figure(figsize=(10, 10))\n",
    "plt.imshow(figure)\n",
    "plt.show()"
   ]
  },
  {
   "cell_type": "code",
   "execution_count": null,
   "metadata": {},
   "outputs": [],
   "source": []
  }
 ],
 "metadata": {
  "kernelspec": {
   "display_name": "kaggle",
   "language": "python",
   "name": "kaggle"
  },
  "language_info": {
   "codemirror_mode": {
    "name": "ipython",
    "version": 3
   },
   "file_extension": ".py",
   "mimetype": "text/x-python",
   "name": "python",
   "nbconvert_exporter": "python",
   "pygments_lexer": "ipython3",
   "version": "3.6.4"
  }
 },
 "nbformat": 4,
 "nbformat_minor": 2
}
